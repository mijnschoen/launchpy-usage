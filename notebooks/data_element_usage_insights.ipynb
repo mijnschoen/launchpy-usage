{
 "cells": [
  {
   "cell_type": "markdown",
   "id": "49cd9df9",
   "metadata": {},
   "source": [
    "# Create overview of Data Element usage (using launchpy)\n",
    "This notebook is used as example to show how the Launchpy module can help in creating an overview of where data elements are being used or which data elements are not being used at all within a Launch Property.\n",
    "\n",
    "\n",
    "**Warning - known edgecase:**\n",
    "\n",
    "*This code assumes the full data element name is enclosed by either percentage characters or qoutes (single or double).*\n",
    "\n",
    "*Therefore in the rare case a the data element name is set dynamically in code (e.g. `_satellite.getVar(some_prefix + some_name, events);`) the usage will not be detected!*"
   ]
  },
  {
   "cell_type": "markdown",
   "id": "d44ed7e4",
   "metadata": {},
   "source": [
    "## Init\n"
   ]
  },
  {
   "cell_type": "code",
   "execution_count": null,
   "id": "48d8dc20",
   "metadata": {},
   "outputs": [],
   "source": [
    "import pandas as pd\n",
    "import launchpy as lp\n",
    "import re\n",
    "from datetime import datetime"
   ]
  },
  {
   "cell_type": "markdown",
   "id": "7c613ea5",
   "metadata": {},
   "source": [
    "This script expects a config file for Launchpy to be already available in `../config/admin.json`.\n",
    "If not, make sure to run the following code first and set the correct values after which you can move the file to the expected location.\n",
    "```\n",
    "lp.createConfigFile()\n",
    "```"
   ]
  },
  {
   "cell_type": "code",
   "execution_count": null,
   "id": "ff7446fe",
   "metadata": {},
   "outputs": [],
   "source": [
    "lp.importConfigFile('../config/admin.json')\n",
    "admin = lp.Admin()\n",
    "my_cid = admin.getCompanyId()\n",
    "my_cid"
   ]
  },
  {
   "cell_type": "markdown",
   "id": "7d722c26",
   "metadata": {},
   "source": [
    "## Select property\n",
    "Retreive the list of properties within the account and select one."
   ]
  },
  {
   "cell_type": "code",
   "execution_count": null,
   "id": "292f7007",
   "metadata": {},
   "outputs": [],
   "source": [
    "my_properties = admin.getProperties(my_cid)\n",
    "[my_property['attributes']['name'] for my_property in my_properties]"
   ]
  },
  {
   "cell_type": "code",
   "execution_count": null,
   "id": "76a8a994",
   "metadata": {},
   "outputs": [],
   "source": [
    "my_property_name = 'my demo property'\n",
    "my_property = list(filter(lambda x: my_property_name == x ['attributes']['name'], my_properties))[0]\n",
    "my_property = lp.Property(my_property)\n",
    "my_property.name"
   ]
  },
  {
   "cell_type": "markdown",
   "id": "9c8edd7d",
   "metadata": {},
   "source": [
    "## Fetch data elements, rules/rule components and extensions"
   ]
  },
  {
   "cell_type": "code",
   "execution_count": null,
   "id": "50ddd59f",
   "metadata": {},
   "outputs": [],
   "source": [
    "data_elements = my_property.getDataElements()\n",
    "rules = my_property.getRules()\n",
    "rule_comps = my_property.getRuleComponents()\n",
    "extensions = my_property.getExtensions()\n",
    "\n",
    "print(f'Fetched:',\n",
    "      f' - {len(data_elements)} data elements',\n",
    "      f' - {len(rules)} rules consisting of {len(rule_comps)} rule components',\n",
    "      f' - {len(extensions)} extensions.',\n",
    "      sep='\\n')\n"
   ]
  },
  {
   "cell_type": "code",
   "execution_count": null,
   "id": "41de814f",
   "metadata": {},
   "outputs": [],
   "source": [
    "rule_actions = [rc for rc in rule_comps if '::actions::' in rc['attributes']['delegate_descriptor_id']]\n",
    "rule_conditions = [rc for rc in rule_comps if '::conditions::' in rc['attributes']['delegate_descriptor_id']]\n",
    "rule_events = [rc for rc in rule_comps if '::events::' in rc['attributes']['delegate_descriptor_id']]\n",
    "\n",
    "print(f'Fetched:',\n",
    "      f' - {len(rule_actions)} actions',\n",
    "      f' - {len(rule_conditions)} conditions',\n",
    "      f' - {len(rule_events)} events',\n",
    "      sep='\\n')\n",
    "\n",
    "assert len(rule_comps) == len(rule_actions) + len(rule_conditions) + len(rule_events)"
   ]
  },
  {
   "cell_type": "markdown",
   "id": "ece60606",
   "metadata": {},
   "source": [
    "## Setup methods for matching and traversing"
   ]
  },
  {
   "cell_type": "code",
   "execution_count": null,
   "id": "bb99a500",
   "metadata": {},
   "outputs": [],
   "source": [
    "def find_occurrence_in_attributes(subject, pattern):\n",
    "    '''Take the subject's attributes, cast it into a string and perform a regex search using pattern.'''\n",
    "    try:\n",
    "        attributes = lp.extractAttributes(subject)\n",
    "        return re.search(pattern, str(attributes))\n",
    "    except TypeError:\n",
    "        print(f'Failed to get attributes and/or settings of subject {subject}')\n",
    "\n",
    "\n",
    "def find_data_element_usage(data_elements=data_elements, rule_comps=rule_comps, extensions=extensions):\n",
    "    '''Find usage of all ddata elements by checking each data elements attributes.'''\n",
    "    results = dict()\n",
    "    \n",
    "    for data_element in data_elements:\n",
    "        de_name = data_element['attributes']['name']\n",
    "        pattern = re.escape(f'{de_name}')\n",
    "        slashes = re.escape('\\\\\\\\')\n",
    "        enclosing = f'(%|({slashes})?\"|({slashes})?\\')'\n",
    "        pattern = f'{enclosing}{pattern}{enclosing}'\n",
    "        \n",
    "        # check data elements\n",
    "        for subject in data_elements + rule_comps + extensions:\n",
    "            if subject == data_element:\n",
    "                # skip the subject itself\n",
    "                continue\n",
    "            if find_occurrence_in_attributes(subject, pattern):\n",
    "                results.setdefault(de_name, []).append(subject)\n",
    "                \n",
    "    return results\n",
    "    "
   ]
  },
  {
   "cell_type": "markdown",
   "id": "a9a58d99",
   "metadata": {},
   "source": [
    "## Run usage search"
   ]
  },
  {
   "cell_type": "code",
   "execution_count": null,
   "id": "ba761107",
   "metadata": {},
   "outputs": [],
   "source": [
    "de_usage = find_data_element_usage()\n",
    "de_usage"
   ]
  },
  {
   "cell_type": "markdown",
   "id": "9d5040b6",
   "metadata": {},
   "source": [
    "## Build easy to use output (DataFrame)"
   ]
  },
  {
   "cell_type": "code",
   "execution_count": null,
   "id": "835118c7",
   "metadata": {},
   "outputs": [],
   "source": [
    "output_columns = ('data_element_name', 'usage_in_type', 'usage_in_name', 'usage_in_rule_name')\n",
    "output_list = []\n",
    "\n",
    "for de_name in de_usage.keys():\n",
    "    usage = [\n",
    "        {\n",
    "            'data_element_name': de_name,\n",
    "            'usage_in_type': subj['type'] if subj['type'] != 'rule_components' else 'rule_' + re.search(r'::(actions|conditions|events)::', subj['attributes']['delegate_descriptor_id']).group(1),\n",
    "            'usage_in_name': subj['attributes']['name'] ,\n",
    "            'usage_in_rule_name':  None if subj['type'] != 'rule_components' else subj['rule_name']\n",
    "        } for subj in (de_usage[de_name] if de_name in de_usage else [])\n",
    "    ]\n",
    "    output_list += usage\n",
    "#     for use in usage:\n",
    "#         output_list.append((de_name,) + use)\n",
    "\n",
    "# usage_df = pd.DataFrame(output_list, columns=output_columns)\n",
    "usage_df = pd.DataFrame(output_list)\n",
    "usage_df.set_index('data_element_name', inplace=True)\n",
    "usage_df"
   ]
  },
  {
   "cell_type": "markdown",
   "id": "d8d59df8",
   "metadata": {},
   "source": [
    "... and make note of the Data elements that are not used anywhere."
   ]
  },
  {
   "cell_type": "code",
   "execution_count": null,
   "id": "d5624b4e",
   "metadata": {},
   "outputs": [],
   "source": [
    "not_used = [data_element['attributes']['name'] for data_element in data_elements] - de_usage.keys()\n",
    "not_used_df = pd.DataFrame(not_used, columns=('data_element_name',))\n",
    "not_used_df.set_index('data_element_name', inplace=True)\n",
    "not_used_df"
   ]
  },
  {
   "cell_type": "markdown",
   "id": "21775bd8",
   "metadata": {},
   "source": [
    "## Save to excel \n",
    "Save to excel for easy sharing."
   ]
  },
  {
   "cell_type": "code",
   "execution_count": null,
   "id": "74b80c0c",
   "metadata": {},
   "outputs": [],
   "source": [
    "date = datetime.now().strftime('%Y_%m_%d_%H:%M:%S')\n",
    "file = f'../output/data_element_usage_{date}.xlsx'\n",
    "\n",
    "with pd.ExcelWriter(file) as writer:\n",
    "    usage_df.to_excel(writer, sheet_name='data_elements_used')\n",
    "    not_used_df.to_excel(writer, sheet_name='unused_data_elements')"
   ]
  },
  {
   "cell_type": "code",
   "execution_count": null,
   "id": "50d08dfc",
   "metadata": {},
   "outputs": [],
   "source": [
    "!ls ../output"
   ]
  },
  {
   "cell_type": "code",
   "execution_count": null,
   "id": "85f54980",
   "metadata": {},
   "outputs": [],
   "source": []
  }
 ],
 "metadata": {
  "kernelspec": {
   "display_name": "Python 3",
   "language": "python",
   "name": "python3"
  },
  "language_info": {
   "codemirror_mode": {
    "name": "ipython",
    "version": 3
   },
   "file_extension": ".py",
   "mimetype": "text/x-python",
   "name": "python",
   "nbconvert_exporter": "python",
   "pygments_lexer": "ipython3",
   "version": "3.8.5"
  }
 },
 "nbformat": 4,
 "nbformat_minor": 5
}
